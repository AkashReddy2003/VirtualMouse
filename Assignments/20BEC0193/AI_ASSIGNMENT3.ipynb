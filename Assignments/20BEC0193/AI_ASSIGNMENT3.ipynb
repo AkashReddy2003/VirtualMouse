{
 "cells": [
  {
   "cell_type": "code",
   "execution_count": 9,
   "metadata": {
    "id": "F0qbxfzjHj-U"
   },
   "outputs": [],
   "source": [
    "import numpy as np\n",
    "from tensorflow.keras.preprocessing import image\n",
    "from tensorflow.keras.preprocessing.image import ImageDataGenerator"
   ]
  },
  {
   "cell_type": "code",
   "execution_count": 10,
   "metadata": {
    "id": "tSJDr8ngNmIQ"
   },
   "outputs": [],
   "source": [
    "train_gen = ImageDataGenerator(rescale=(1/255))\n",
    "test_gen = ImageDataGenerator(rescale=(1/255))"
   ]
  },
  {
   "cell_type": "code",
   "execution_count": 11,
   "metadata": {
    "colab": {
     "base_uri": "https://localhost:8080/"
    },
    "id": "tfKH_c5yNtvy",
    "outputId": "18a99d22-b085-4f3d-aab3-0cc75096623b"
   },
   "outputs": [
    {
     "name": "stdout",
     "output_type": "stream",
     "text": [
      "Found 150 images belonging to 16 classes.\n",
      "Found 157 images belonging to 16 classes.\n"
     ]
    }
   ],
   "source": [
    "train = train_gen.flow_from_directory('/content/drive/MyDrive/assignment_3/train_data/train_data',\n",
    "                                      target_size=(120, 120),\n",
    "                                      class_mode='categorical', \n",
    "                                      batch_size=8)\n",
    "test = test_gen.flow_from_directory('/content/drive/MyDrive/assignment_3/test_data/test_data',\n",
    "                                    target_size=(120, 120),\n",
    "                                      class_mode='categorical', \n",
    "                                      batch_size=8)"
   ]
  },
  {
   "cell_type": "code",
   "execution_count": 66,
   "metadata": {
    "colab": {
     "base_uri": "https://localhost:8080/"
    },
    "id": "2cVKy5vmOaX3",
    "outputId": "23b5ae7e-0180-4cda-a874-73954387114d"
   },
   "outputs": [
    {
     "data": {
      "text/plain": [
       "{'blasti': 0,\n",
       " 'bonegl': 1,\n",
       " 'brhkyt': 2,\n",
       " 'cbrtsh': 3,\n",
       " 'cmnmyn': 4,\n",
       " 'gretit': 5,\n",
       " 'hilpig': 6,\n",
       " 'himbul': 7,\n",
       " 'himgri': 8,\n",
       " 'hsparo': 9,\n",
       " 'indvul': 10,\n",
       " 'jglowl': 11,\n",
       " 'lbicrw': 12,\n",
       " 'mgprob': 13,\n",
       " 'rebimg': 14,\n",
       " 'wcrsrt': 15}"
      ]
     },
     "execution_count": 66,
     "metadata": {},
     "output_type": "execute_result"
    }
   ],
   "source": [
    "test.class_indices"
   ]
  },
  {
   "cell_type": "code",
   "execution_count": 13,
   "metadata": {
    "colab": {
     "base_uri": "https://localhost:8080/"
    },
    "id": "Koskg37JOcOT",
    "outputId": "26c46f16-536a-45ef-df26-5e7d9a7224dc"
   },
   "outputs": [
    {
     "data": {
      "text/plain": [
       "array([ 0,  0,  0,  0,  0,  0,  0,  0,  0,  0,  0,  0,  0,  0,  0,  1,  1,\n",
       "        1,  1,  1,  1,  2,  2,  2,  2,  2,  3,  3,  3,  3,  3,  3,  3,  4,\n",
       "        4,  4,  4,  4,  4,  4,  5,  5,  5,  5,  5,  5,  6,  6,  6,  6,  6,\n",
       "        6,  6,  6,  6,  6,  7,  7,  7,  7,  7,  7,  7,  7,  7,  7,  7,  7,\n",
       "        7,  7,  7,  7,  7,  7,  8,  8,  8,  8,  8,  8,  8,  8,  8,  8,  8,\n",
       "        8,  8,  8,  8,  8,  8,  8,  8,  8,  9,  9,  9,  9,  9,  9,  9,  9,\n",
       "        9, 10, 10, 10, 10, 10, 10, 10, 10, 10, 11, 11, 11, 11, 11, 11, 12,\n",
       "       12, 12, 12, 12, 12, 13, 13, 13, 13, 13, 13, 14, 14, 14, 14, 14, 14,\n",
       "       14, 14, 14, 14, 15, 15, 15, 15, 15, 15, 15, 15, 15, 15],\n",
       "      dtype=int32)"
      ]
     },
     "execution_count": 13,
     "metadata": {},
     "output_type": "execute_result"
    }
   ],
   "source": [
    "train.classes"
   ]
  },
  {
   "cell_type": "code",
   "execution_count": 14,
   "metadata": {
    "id": "WVm59gVkOeoV"
   },
   "outputs": [],
   "source": [
    "from tensorflow.keras.layers import Convolution2D,MaxPooling2D,Flatten,Dense\n",
    "from tensorflow.keras.models import Sequential"
   ]
  },
  {
   "cell_type": "code",
   "execution_count": 15,
   "metadata": {
    "id": "xRfoN0pcOjUB"
   },
   "outputs": [],
   "source": [
    "cnn = Sequential()\n",
    "cnn.add(Convolution2D(12,(3,3),activation='relu',input_shape=(120, 120, 3)))\n",
    "cnn.add(MaxPooling2D(pool_size=(2,2)))\n",
    "\n",
    "cnn.add(Convolution2D(24,(3,3),activation='relu'))\n",
    "cnn.add(MaxPooling2D(pool_size=(2,2)))\n",
    "\n",
    "cnn.add(Convolution2D(36,(3,3),activation='relu'))\n",
    "cnn.add(MaxPooling2D(pool_size=(2,2)))\n",
    "\n",
    "cnn.add(Flatten())\n",
    "cnn.add(Dense(32,activation='relu'))\n",
    "cnn.add(Dense(16,activation='relu'))\n",
    "cnn.add(Dense(16,activation='softmax'))"
   ]
  },
  {
   "cell_type": "code",
   "execution_count": 16,
   "metadata": {
    "id": "UHPgUxskQ6ZV"
   },
   "outputs": [],
   "source": [
    "cnn.compile(optimizer='adam',loss='categorical_crossentropy',metrics=['accuracy'])"
   ]
  },
  {
   "cell_type": "code",
   "execution_count": 31,
   "metadata": {
    "id": "pGEt7jwHUoDi"
   },
   "outputs": [],
   "source": [
    "from tensorflow.keras.callbacks import EarlyStopping\n",
    "early_stop = EarlyStopping(monitor='accuracy',patience=8)"
   ]
  },
  {
   "cell_type": "code",
   "execution_count": 32,
   "metadata": {
    "colab": {
     "base_uri": "https://localhost:8080/"
    },
    "id": "k3uQ6QbNRVBl",
    "outputId": "4b058173-5b6e-4b13-bcc7-a77413b4dda5"
   },
   "outputs": [
    {
     "name": "stdout",
     "output_type": "stream",
     "text": [
      "Epoch 1/20\n",
      "19/19 [==============================] - 46s 2s/step - loss: 2.3164 - accuracy: 0.2333\n",
      "Epoch 2/20\n",
      "19/19 [==============================] - 56s 3s/step - loss: 2.2469 - accuracy: 0.2933\n",
      "Epoch 3/20\n",
      "19/19 [==============================] - 47s 2s/step - loss: 2.1000 - accuracy: 0.3000\n",
      "Epoch 4/20\n",
      "19/19 [==============================] - 46s 2s/step - loss: 2.0428 - accuracy: 0.3267\n",
      "Epoch 5/20\n",
      "19/19 [==============================] - 45s 2s/step - loss: 1.9275 - accuracy: 0.3533\n",
      "Epoch 6/20\n",
      "19/19 [==============================] - 45s 2s/step - loss: 1.8613 - accuracy: 0.3800\n",
      "Epoch 7/20\n",
      "19/19 [==============================] - 45s 2s/step - loss: 1.6050 - accuracy: 0.4533\n",
      "Epoch 8/20\n",
      "19/19 [==============================] - 48s 3s/step - loss: 1.5149 - accuracy: 0.4667\n",
      "Epoch 9/20\n",
      "19/19 [==============================] - 46s 2s/step - loss: 1.4243 - accuracy: 0.4667\n",
      "Epoch 10/20\n",
      "19/19 [==============================] - 45s 2s/step - loss: 1.2029 - accuracy: 0.5800\n",
      "Epoch 11/20\n",
      "19/19 [==============================] - 46s 2s/step - loss: 1.1602 - accuracy: 0.6333\n",
      "Epoch 12/20\n",
      "19/19 [==============================] - 48s 3s/step - loss: 1.0154 - accuracy: 0.6533\n",
      "Epoch 13/20\n",
      "19/19 [==============================] - 46s 2s/step - loss: 1.2756 - accuracy: 0.6000\n",
      "Epoch 14/20\n",
      "19/19 [==============================] - 46s 2s/step - loss: 1.1868 - accuracy: 0.6000\n",
      "Epoch 15/20\n",
      "19/19 [==============================] - 47s 2s/step - loss: 0.7957 - accuracy: 0.7533\n",
      "Epoch 16/20\n",
      "19/19 [==============================] - 45s 2s/step - loss: 0.6098 - accuracy: 0.8200\n",
      "Epoch 17/20\n",
      "19/19 [==============================] - 47s 2s/step - loss: 0.5309 - accuracy: 0.8467\n",
      "Epoch 18/20\n",
      "19/19 [==============================] - 48s 3s/step - loss: 0.6026 - accuracy: 0.8000\n",
      "Epoch 19/20\n",
      "19/19 [==============================] - 46s 2s/step - loss: 0.6286 - accuracy: 0.7733\n",
      "Epoch 20/20\n",
      "19/19 [==============================] - 46s 2s/step - loss: 0.5464 - accuracy: 0.8400\n"
     ]
    },
    {
     "data": {
      "text/plain": [
       "<keras.callbacks.History at 0x7fac6c95f730>"
      ]
     },
     "execution_count": 32,
     "metadata": {},
     "output_type": "execute_result"
    }
   ],
   "source": [
    "cnn.fit(train,batch_size=8,epochs=20,callbacks=early_stop)"
   ]
  },
  {
   "cell_type": "code",
   "execution_count": 68,
   "metadata": {
    "id": "tmND7mGgdCV5"
   },
   "outputs": [],
   "source": [
    "classes = [\"blasti\",\"bonegl\",\"brhkyt\",\"cbrtsh\",\"cmnmyn\",\"gretit\",\"hilpig\",\"himbul\",\"himgri\",\"hsparo\",\"indvul\",\"jglowl\",\"lbicrw\",\"mgprob\",\"rebimg\",\"wcrsrt\"]"
   ]
  },
  {
   "cell_type": "code",
   "execution_count": 70,
   "metadata": {
    "colab": {
     "base_uri": "https://localhost:8080/"
    },
    "id": "SD1Ahx5bTWfJ",
    "outputId": "55b9d982-217c-43b6-da6a-896ddc1924a2"
   },
   "outputs": [
    {
     "name": "stdout",
     "output_type": "stream",
     "text": [
      "1/1 [==============================] - 0s 28ms/step\n",
      "model prediction :  himbul\n"
     ]
    }
   ],
   "source": [
    "path = '/content/drive/MyDrive/assignment_3/test_data/test_data/himbul/5857371972_ed4f88b275_o.jpg'\n",
    "img = image.load_img(path,target_size=(120,120))\n",
    "img = image.img_to_array(img)\n",
    "img = np.expand_dims(img,axis=0)\n",
    "pred = classes[np.argmax(cnn.predict(img))]\n",
    "print(\"model prediction : \",pred)"
   ]
  },
  {
   "cell_type": "code",
   "execution_count": 73,
   "metadata": {
    "colab": {
     "base_uri": "https://localhost:8080/"
    },
    "id": "5WtQmLvVbFki",
    "outputId": "845d2226-1082-438f-fed6-5916b129e1b3"
   },
   "outputs": [
    {
     "name": "stdout",
     "output_type": "stream",
     "text": [
      "1/1 [==============================] - 0s 28ms/step\n",
      "model prediction :  himgri\n"
     ]
    }
   ],
   "source": [
    "path = '/content/drive/MyDrive/assignment_3/test_data/test_data/himgri/IMG_5491.JPG'\n",
    "img = image.load_img(path,target_size=(120,120))\n",
    "img = image.img_to_array(img)\n",
    "img = np.expand_dims(img,axis=0)\n",
    "pred = classes[np.argmax(cnn.predict(img))]\n",
    "print(\"model prediction : \",pred)"
   ]
  },
  {
   "cell_type": "code",
   "execution_count": 72,
   "metadata": {
    "colab": {
     "base_uri": "https://localhost:8080/"
    },
    "id": "luo3FPLWbLZ9",
    "outputId": "bff2d8ab-6560-4bc1-d330-38a68ffb4d4a"
   },
   "outputs": [
    {
     "name": "stdout",
     "output_type": "stream",
     "text": [
      "1/1 [==============================] - 0s 38ms/step\n",
      "model prediction :  indvul\n"
     ]
    }
   ],
   "source": [
    "path = '/content/drive/MyDrive/assignment_3/test_data/test_data/indvul/DSC_1275.jpg'\n",
    "img = image.load_img(path,target_size=(120,120))\n",
    "img = image.img_to_array(img)\n",
    "img = np.expand_dims(img,axis=0)\n",
    "pred = classes[np.argmax(cnn.predict(img))]\n",
    "print(\"model prediction : \",pred)"
   ]
  },
  {
   "cell_type": "code",
   "execution_count": 71,
   "metadata": {
    "colab": {
     "base_uri": "https://localhost:8080/"
    },
    "id": "IsRNv0DpbW3P",
    "outputId": "2c08fdda-4861-41f1-f85d-89b468cba1ff"
   },
   "outputs": [
    {
     "name": "stdout",
     "output_type": "stream",
     "text": [
      "1/1 [==============================] - 0s 28ms/step\n",
      "model prediction :  blasti\n"
     ]
    }
   ],
   "source": [
    "path = '/content/drive/MyDrive/assignment_3/test_data/test_data/blasti/DSC_6400.jpg'\n",
    "img = image.load_img(path,target_size=(120,120))\n",
    "img = image.img_to_array(img)\n",
    "img = np.expand_dims(img,axis=0)\n",
    "pred = classes[np.argmax(cnn.predict(img))]\n",
    "print(\"model prediction : \",pred)"
   ]
  }
 ],
 "metadata": {
  "colab": {
   "provenance": []
  },
  "kernelspec": {
   "display_name": "Python 3 (ipykernel)",
   "language": "python",
   "name": "python3"
  },
  "language_info": {
   "codemirror_mode": {
    "name": "ipython",
    "version": 3
   },
   "file_extension": ".py",
   "mimetype": "text/x-python",
   "name": "python",
   "nbconvert_exporter": "python",
   "pygments_lexer": "ipython3",
   "version": "3.9.12"
  }
 },
 "nbformat": 4,
 "nbformat_minor": 1
}
