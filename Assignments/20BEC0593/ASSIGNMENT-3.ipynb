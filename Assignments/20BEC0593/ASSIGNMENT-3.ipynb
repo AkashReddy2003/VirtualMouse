{
 "cells": [
  {
   "cell_type": "code",
   "execution_count": 12,
   "metadata": {},
   "outputs": [],
   "source": [
    "from tensorflow.keras.preprocessing.image import ImageDataGenerator"
   ]
  },
  {
   "cell_type": "code",
   "execution_count": 13,
   "metadata": {},
   "outputs": [],
   "source": [
    "train_gen = ImageDataGenerator(rescale=(1./255),horizontal_flip=True,shear_range=0.2)\n",
    "test_gen = ImageDataGenerator(rescale=(1./255))  #--> (0 to 255) convert to (0 to 1)"
   ]
  },
  {
   "cell_type": "code",
   "execution_count": 14,
   "metadata": {},
   "outputs": [
    {
     "name": "stdout",
     "output_type": "stream",
     "text": [
      "Found 150 images belonging to 16 classes.\n",
      "Found 157 images belonging to 16 classes.\n"
     ]
    }
   ],
   "source": [
    "train = train_gen.flow_from_directory('A3data/train_data/train_data',\n",
    "                                      target_size=(120, 120),\n",
    "                                      class_mode='categorical', \n",
    "                                      batch_size=8)\n",
    "test = test_gen.flow_from_directory('A3data/test_data/test_data',\n",
    "                                    target_size=(120, 120),\n",
    "                                      class_mode='categorical', \n",
    "                                      batch_size=8)"
   ]
  },
  {
   "cell_type": "code",
   "execution_count": 15,
   "metadata": {},
   "outputs": [
    {
     "data": {
      "text/plain": [
       "{'blasti': 0,\n",
       " 'bonegl': 1,\n",
       " 'brhkyt': 2,\n",
       " 'cbrtsh': 3,\n",
       " 'cmnmyn': 4,\n",
       " 'gretit': 5,\n",
       " 'hilpig': 6,\n",
       " 'himbul': 7,\n",
       " 'himgri': 8,\n",
       " 'hsparo': 9,\n",
       " 'indvul': 10,\n",
       " 'jglowl': 11,\n",
       " 'lbicrw': 12,\n",
       " 'mgprob': 13,\n",
       " 'rebimg': 14,\n",
       " 'wcrsrt': 15}"
      ]
     },
     "execution_count": 15,
     "metadata": {},
     "output_type": "execute_result"
    }
   ],
   "source": [
    "train.class_indices"
   ]
  },
  {
   "cell_type": "code",
   "execution_count": 17,
   "metadata": {},
   "outputs": [],
   "source": [
    "from tensorflow.keras.layers import Convolution2D,MaxPooling2D,Flatten,Dense\n",
    "from tensorflow.keras.models import Sequential\n",
    "from tensorflow.keras.layers import BatchNormalization, Dropout"
   ]
  },
  {
   "cell_type": "code",
   "execution_count": 18,
   "metadata": {},
   "outputs": [],
   "source": [
    "model = Sequential()\n",
    "model.add(Convolution2D(12,(3,3),activation='relu',input_shape=(120, 120, 3)))\n",
    "model.add(BatchNormalization())\n",
    "model.add(MaxPooling2D(pool_size=(2,2)))\n",
    "model.add(Dropout(0.2))\n",
    "model.add(Convolution2D(24,(3,3),activation='relu'))\n",
    "model.add(BatchNormalization())\n",
    "model.add(MaxPooling2D(pool_size=(2,2)))\n",
    "model.add(Dropout(0.2))\n",
    "model.add(Convolution2D(36,(3,3),activation='relu'))\n",
    "model.add(BatchNormalization())\n",
    "model.add(MaxPooling2D(pool_size=(2,2)))\n",
    "model.add(Dropout(0.2))\n",
    "model.add(Flatten())\n",
    "model.add(Dense(62,activation='relu'))\n",
    "model.add(BatchNormalization())\n",
    "model.add(Dropout(0.1))\n",
    "model.add(Dense(32,activation='relu'))\n",
    "model.add(Dense(16,activation='relu'))\n",
    "model.add(Dense(16,activation='softmax'))"
   ]
  },
  {
   "cell_type": "code",
   "execution_count": 19,
   "metadata": {},
   "outputs": [
    {
     "name": "stdout",
     "output_type": "stream",
     "text": [
      "Model: \"sequential_1\"\n",
      "_________________________________________________________________\n",
      " Layer (type)                Output Shape              Param #   \n",
      "=================================================================\n",
      " conv2d_1 (Conv2D)           (None, 118, 118, 12)      336       \n",
      "                                                                 \n",
      " batch_normalization (BatchN  (None, 118, 118, 12)     48        \n",
      " ormalization)                                                   \n",
      "                                                                 \n",
      " max_pooling2d_1 (MaxPooling  (None, 59, 59, 12)       0         \n",
      " 2D)                                                             \n",
      "                                                                 \n",
      " dropout (Dropout)           (None, 59, 59, 12)        0         \n",
      "                                                                 \n",
      " conv2d_2 (Conv2D)           (None, 57, 57, 24)        2616      \n",
      "                                                                 \n",
      " batch_normalization_1 (Batc  (None, 57, 57, 24)       96        \n",
      " hNormalization)                                                 \n",
      "                                                                 \n",
      " max_pooling2d_2 (MaxPooling  (None, 28, 28, 24)       0         \n",
      " 2D)                                                             \n",
      "                                                                 \n",
      " dropout_1 (Dropout)         (None, 28, 28, 24)        0         \n",
      "                                                                 \n",
      " conv2d_3 (Conv2D)           (None, 26, 26, 36)        7812      \n",
      "                                                                 \n",
      " batch_normalization_2 (Batc  (None, 26, 26, 36)       144       \n",
      " hNormalization)                                                 \n",
      "                                                                 \n",
      " max_pooling2d_3 (MaxPooling  (None, 13, 13, 36)       0         \n",
      " 2D)                                                             \n",
      "                                                                 \n",
      " dropout_2 (Dropout)         (None, 13, 13, 36)        0         \n",
      "                                                                 \n",
      " flatten_1 (Flatten)         (None, 6084)              0         \n",
      "                                                                 \n",
      " dense_2 (Dense)             (None, 62)                377270    \n",
      "                                                                 \n",
      " batch_normalization_3 (Batc  (None, 62)               248       \n",
      " hNormalization)                                                 \n",
      "                                                                 \n",
      " dropout_3 (Dropout)         (None, 62)                0         \n",
      "                                                                 \n",
      " dense_3 (Dense)             (None, 32)                2016      \n",
      "                                                                 \n",
      " dense_4 (Dense)             (None, 16)                528       \n",
      "                                                                 \n",
      " dense_5 (Dense)             (None, 16)                272       \n",
      "                                                                 \n",
      "=================================================================\n",
      "Total params: 391,386\n",
      "Trainable params: 391,118\n",
      "Non-trainable params: 268\n",
      "_________________________________________________________________\n"
     ]
    }
   ],
   "source": [
    "model.summary()"
   ]
  },
  {
   "cell_type": "code",
   "execution_count": 20,
   "metadata": {},
   "outputs": [],
   "source": [
    "model.compile(optimizer='adam',loss='categorical_crossentropy',metrics=['accuracy'])"
   ]
  },
  {
   "cell_type": "code",
   "execution_count": 21,
   "metadata": {},
   "outputs": [],
   "source": [
    "from tensorflow.keras.callbacks import EarlyStopping"
   ]
  },
  {
   "cell_type": "code",
   "execution_count": 22,
   "metadata": {},
   "outputs": [],
   "source": [
    "early_stop = EarlyStopping(monitor='accuracy',patience=8)"
   ]
  },
  {
   "cell_type": "code",
   "execution_count": 24,
   "metadata": {
    "scrolled": true
   },
   "outputs": [
    {
     "name": "stdout",
     "output_type": "stream",
     "text": [
      "Epoch 1/20\n",
      "19/19 [==============================] - 138s 8s/step - loss: 2.1387 - accuracy: 0.3267 - val_loss: 2.8857 - val_accuracy: 0.1083\n",
      "Epoch 2/20\n",
      "19/19 [==============================] - 111s 6s/step - loss: 2.0177 - accuracy: 0.3733 - val_loss: 2.6619 - val_accuracy: 0.2038\n",
      "Epoch 3/20\n",
      "19/19 [==============================] - 147s 8s/step - loss: 1.9384 - accuracy: 0.3733 - val_loss: 2.7179 - val_accuracy: 0.1146\n",
      "Epoch 4/20\n",
      "19/19 [==============================] - 141s 8s/step - loss: 1.8812 - accuracy: 0.4400 - val_loss: 2.7362 - val_accuracy: 0.1465\n",
      "Epoch 5/20\n",
      "19/19 [==============================] - 177s 10s/step - loss: 1.8373 - accuracy: 0.4533 - val_loss: 2.8003 - val_accuracy: 0.1592\n",
      "Epoch 6/20\n",
      "19/19 [==============================] - 151s 8s/step - loss: 1.8451 - accuracy: 0.4467 - val_loss: 2.6913 - val_accuracy: 0.1529\n",
      "Epoch 7/20\n",
      "19/19 [==============================] - 172s 8s/step - loss: 1.6785 - accuracy: 0.4867 - val_loss: 2.8695 - val_accuracy: 0.1210\n",
      "Epoch 8/20\n",
      "19/19 [==============================] - 142s 8s/step - loss: 1.5975 - accuracy: 0.5333 - val_loss: 2.9724 - val_accuracy: 0.1083\n",
      "Epoch 9/20\n",
      "19/19 [==============================] - 160s 9s/step - loss: 1.5445 - accuracy: 0.5733 - val_loss: 2.8460 - val_accuracy: 0.1083\n",
      "Epoch 10/20\n",
      "19/19 [==============================] - 107s 6s/step - loss: 1.5320 - accuracy: 0.5267 - val_loss: 2.7822 - val_accuracy: 0.1975\n",
      "Epoch 11/20\n",
      "19/19 [==============================] - 136s 7s/step - loss: 1.4197 - accuracy: 0.5733 - val_loss: 2.7403 - val_accuracy: 0.1592\n",
      "Epoch 12/20\n",
      "19/19 [==============================] - 143s 8s/step - loss: 1.3748 - accuracy: 0.6067 - val_loss: 2.7162 - val_accuracy: 0.1720\n",
      "Epoch 13/20\n",
      "19/19 [==============================] - 134s 7s/step - loss: 1.3233 - accuracy: 0.5933 - val_loss: 2.7667 - val_accuracy: 0.1274\n",
      "Epoch 14/20\n",
      "19/19 [==============================] - 139s 7s/step - loss: 1.2381 - accuracy: 0.6133 - val_loss: 2.7456 - val_accuracy: 0.2102\n",
      "Epoch 15/20\n",
      "19/19 [==============================] - 172s 9s/step - loss: 1.1163 - accuracy: 0.6533 - val_loss: 2.9215 - val_accuracy: 0.1592\n",
      "Epoch 16/20\n",
      "19/19 [==============================] - 132s 7s/step - loss: 1.1582 - accuracy: 0.6000 - val_loss: 3.0768 - val_accuracy: 0.1338\n",
      "Epoch 17/20\n",
      "19/19 [==============================] - 134s 7s/step - loss: 1.1082 - accuracy: 0.6867 - val_loss: 2.8699 - val_accuracy: 0.1911\n",
      "Epoch 18/20\n",
      "19/19 [==============================] - 116s 6s/step - loss: 0.9363 - accuracy: 0.7333 - val_loss: 3.0776 - val_accuracy: 0.1274\n",
      "Epoch 19/20\n",
      "19/19 [==============================] - 122s 7s/step - loss: 0.9796 - accuracy: 0.7333 - val_loss: 3.3115 - val_accuracy: 0.2038\n",
      "Epoch 20/20\n",
      "19/19 [==============================] - 121s 7s/step - loss: 0.8462 - accuracy: 0.7467 - val_loss: 2.9549 - val_accuracy: 0.1401\n"
     ]
    },
    {
     "data": {
      "text/plain": [
       "<keras.callbacks.History at 0x22d75cd30a0>"
      ]
     },
     "execution_count": 24,
     "metadata": {},
     "output_type": "execute_result"
    }
   ],
   "source": [
    "model.fit(train,batch_size=8,validation_data=test,epochs=20,callbacks=early_stop)"
   ]
  },
  {
   "cell_type": "code",
   "execution_count": 29,
   "metadata": {
    "scrolled": true
   },
   "outputs": [
    {
     "data": {
      "text/plain": [
       "{'blasti': 0,\n",
       " 'bonegl': 1,\n",
       " 'brhkyt': 2,\n",
       " 'cbrtsh': 3,\n",
       " 'cmnmyn': 4,\n",
       " 'gretit': 5,\n",
       " 'hilpig': 6,\n",
       " 'himbul': 7,\n",
       " 'himgri': 8,\n",
       " 'hsparo': 9,\n",
       " 'indvul': 10,\n",
       " 'jglowl': 11,\n",
       " 'lbicrw': 12,\n",
       " 'mgprob': 13,\n",
       " 'rebimg': 14,\n",
       " 'wcrsrt': 15}"
      ]
     },
     "execution_count": 29,
     "metadata": {},
     "output_type": "execute_result"
    }
   ],
   "source": [
    "train.class_indices"
   ]
  },
  {
   "cell_type": "code",
   "execution_count": 32,
   "metadata": {},
   "outputs": [],
   "source": [
    "import numpy as np\n",
    "from tensorflow.keras.preprocessing import image"
   ]
  },
  {
   "cell_type": "code",
   "execution_count": 46,
   "metadata": {},
   "outputs": [
    {
     "name": "stdout",
     "output_type": "stream",
     "text": [
      "1/1 [==============================] - 0s 26ms/step\n",
      "8\n"
     ]
    }
   ],
   "source": [
    "img = image.load_img('A3data/test_data/test_data/himgri/IMG_5384.JPG',target_size=(120,120))\n",
    "img = image.img_to_array(img)\n",
    "img = np.expand_dims(img,axis=0)\n",
    "pred = np.argmax(model.predict(img))\n",
    "print(pred)\n"
   ]
  },
  {
   "cell_type": "code",
   "execution_count": null,
   "metadata": {},
   "outputs": [],
   "source": []
  },
  {
   "cell_type": "code",
   "execution_count": null,
   "metadata": {},
   "outputs": [],
   "source": []
  }
 ],
 "metadata": {
  "kernelspec": {
   "display_name": "Python 3",
   "language": "python",
   "name": "python3"
  },
  "language_info": {
   "codemirror_mode": {
    "name": "ipython",
    "version": 3
   },
   "file_extension": ".py",
   "mimetype": "text/x-python",
   "name": "python",
   "nbconvert_exporter": "python",
   "pygments_lexer": "ipython3",
   "version": "3.8.5"
  }
 },
 "nbformat": 4,
 "nbformat_minor": 4
}
